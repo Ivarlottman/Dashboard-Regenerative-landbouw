{
 "cells": [
  {
   "cell_type": "markdown",
   "metadata": {},
   "source": [
    "Logboek Ivar Lottman\n",
    "\n",
    "Introductie Regeneratieve logboek\n"
   ]
  },
  {
   "cell_type": "markdown",
   "metadata": {},
   "source": [
    "Codeboek\n",
    "Map Ruwe data\n",
    "File clean_data_2024\n",
    "Strook_O_W\n",
    "Behandeling\n",
    "Bloknr\n",
    "jaar\n",
    "Snede \n",
    "Kuub_kg_h\n",
    "PPO_nr\n",
    "meters_gemaaid\n",
    "gemaaid_m2\n",
    "gewicht_kg\n",
    "gewicht_T_H (ton hectare)\n",
    "vocht\n",
    "DS_perc (ds%)\n",
    "DS_T_H (ds ton hectare)\n",
    "VEM\n",
    "DVE\n",
    "OEB\n",
    "VEVI\n",
    "VOS\n",
    "SW\n",
    "Ruwe_eiwit\n",
    "Ruwe_celst\n",
    "Ruw_as\n",
    "VCOS\n",
    "Suiker\n",
    "Ruw_vet\n",
    "Chloor\n",
    "NDF\n",
    "ADF\n",
    "ADL\n",
    "VEM_prod\n",
    "DVE_prod\n"
   ]
  }
 ],
 "metadata": {
  "kernelspec": {
   "display_name": "Python 3",
   "language": "python",
   "name": "python3"
  },
  "language_info": {
   "name": "python",
   "version": "3.11.9"
  }
 },
 "nbformat": 4,
 "nbformat_minor": 2
}
