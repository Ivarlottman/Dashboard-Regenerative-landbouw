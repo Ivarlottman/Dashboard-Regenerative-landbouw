{
 "cells": [
  {
   "cell_type": "markdown",
   "metadata": {},
   "source": [
    "Hosting Plan  \n",
    "Ivar lottman voor Dashboard Regeneratieve landbouw  \n",
    "Omdat het ongebruikelijk is de complete onderzoeks/productie data in deze form op een openbare website voor iedereen online te zetten met de hoeveelheid flexibiliteit van deze aplicatie. zou ik aanraden om dit of lokaal te hosten of in een op goedgekeurde account based website te zetting. Dit heeft als reden dat de aplicatie context mist zowel over de productie gegevens(welk type land en manier van opnemen) en de flexibiliteit van de statistiek tab voor foute interpetaties kan zorgen.\n",
    "\n",
    "Als verantegenwoordigers de aplicatie gaan gebruiken zou ik met server gaan werken zodat het makelijker toeganklijk is voor deze mensen. In het geval dat het een interne applicatie is voor intern onderzoek en het volgen van het project zou ik alles lokaal blijven draaien.\n",
    "Ik zie de server niet met dit huidige project niet boven de 100 concurent users komen en de database. \n",
    "Ik verwacht ook niet dat er met dit project problemen komen met de database omdat het ongeveer 24mb per jaar is en pandas een maximum capiciteit heeft van 100gb database[2]\n",
    "In dit geval zou ik kiezen voor een apache server omdat het een populaire manier is om een server te hosten en het een open source modulaire tool is[3]. een nadeel hiervan is dat appachie niet goed met duizenden concurrent users om kan gaan maar dat zoals eerder benoemd beschouw ik dit niet als een relevant probleem.\n",
    "\n",
    "\n",
    "Ik zou de server updaten met de hand vanwege de kleine scope van het project."
   ]
  },
  {
   "cell_type": "markdown",
   "metadata": {},
   "source": [
    "Hosting  \n",
    "Hosten op poort 8080 omdat het een bekende poort is voor local appachy en andere proxy servers[1]"
   ]
  },
  {
   "cell_type": "markdown",
   "metadata": {},
   "source": [
    "  \n",
    "[1]https://nl.wikipedia.org/wiki/TCP-_en_UDP-poorten  \n",
    "[2]https://blog.hubspot.com/website/pandas-dataframe-size#:~:text=The%20short%20answer%20is%20yes,a%20set%20number%20of%20cells. \n",
    "[3]https://www.datadoghq.com/blog/monitoring-apache-web-server-performance/#key-apache-performance-metrics"
   ]
  }
 ],
 "metadata": {
  "language_info": {
   "name": "python"
  }
 },
 "nbformat": 4,
 "nbformat_minor": 2
}
